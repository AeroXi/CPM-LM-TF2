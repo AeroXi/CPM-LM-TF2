{
 "cells": [
  {
   "cell_type": "code",
   "execution_count": 1,
   "metadata": {},
   "outputs": [],
   "source": [
    "import tensorflow as tf"
   ]
  },
  {
   "cell_type": "code",
   "execution_count": 2,
   "metadata": {},
   "outputs": [
    {
     "name": "stdout",
     "output_type": "stream",
     "text": [
      "WARNING:tensorflow:No training configuration found in save file, so the model was *not* compiled. Compile it manually.\n"
     ]
    }
   ],
   "source": [
    "gpt = tf.keras.models.load_model('./cpm-logits-model')"
   ]
  },
  {
   "cell_type": "code",
   "execution_count": 3,
   "metadata": {},
   "outputs": [
    {
     "data": {
      "text/plain": [
       "TensorShape([2, 1])"
      ]
     },
     "execution_count": 3,
     "metadata": {},
     "output_type": "execute_result"
    }
   ],
   "source": [
    "x = tf.constant([[1], [2]])\n",
    "x.shape"
   ]
  },
  {
   "cell_type": "code",
   "execution_count": 4,
   "metadata": {},
   "outputs": [
    {
     "data": {
      "text/plain": [
       "TensorShape([2, 1, 30000])"
      ]
     },
     "execution_count": 4,
     "metadata": {},
     "output_type": "execute_result"
    }
   ],
   "source": [
    "gpt(x).shape"
   ]
  },
  {
   "cell_type": "code",
   "execution_count": 5,
   "metadata": {},
   "outputs": [
    {
     "data": {
      "text/plain": [
       "TensorShape([2, 3])"
      ]
     },
     "execution_count": 5,
     "metadata": {},
     "output_type": "execute_result"
    }
   ],
   "source": [
    "x = tf.constant([[1, 2, 3], [2, 4, 5]])\n",
    "x.shape"
   ]
  },
  {
   "cell_type": "code",
   "execution_count": 6,
   "metadata": {},
   "outputs": [
    {
     "data": {
      "text/plain": [
       "TensorShape([2, 3, 30000])"
      ]
     },
     "execution_count": 6,
     "metadata": {},
     "output_type": "execute_result"
    }
   ],
   "source": [
    "gpt(x).shape"
   ]
  },
  {
   "cell_type": "code",
   "execution_count": 8,
   "metadata": {},
   "outputs": [
    {
     "data": {
      "text/plain": [
       "True"
      ]
     },
     "execution_count": 8,
     "metadata": {},
     "output_type": "execute_result"
    }
   ],
   "source": [
    "gpt.trainable"
   ]
  },
  {
   "cell_type": "code",
   "execution_count": 9,
   "metadata": {},
   "outputs": [
    {
     "name": "stdout",
     "output_type": "stream",
     "text": [
      "Model: \"gpt\"\n",
      "_________________________________________________________________\n",
      "Layer (type)                 Output Shape              Param #   \n",
      "=================================================================\n",
      "embedding (Embedding)        multiple                  76800000  \n",
      "_________________________________________________________________\n",
      "position_embedding (Position multiple                  2621440   \n",
      "_________________________________________________________________\n",
      "dropout (Dropout)            multiple                  0         \n",
      "_________________________________________________________________\n",
      "layer00 (Transformer)        multiple                  78676480  \n",
      "_________________________________________________________________\n",
      "layer01 (Transformer)        multiple                  78676480  \n",
      "_________________________________________________________________\n",
      "layer02 (Transformer)        multiple                  78676480  \n",
      "_________________________________________________________________\n",
      "layer03 (Transformer)        multiple                  78676480  \n",
      "_________________________________________________________________\n",
      "layer04 (Transformer)        multiple                  78676480  \n",
      "_________________________________________________________________\n",
      "layer05 (Transformer)        multiple                  78676480  \n",
      "_________________________________________________________________\n",
      "layer06 (Transformer)        multiple                  78676480  \n",
      "_________________________________________________________________\n",
      "layer07 (Transformer)        multiple                  78676480  \n",
      "_________________________________________________________________\n",
      "layer08 (Transformer)        multiple                  78676480  \n",
      "_________________________________________________________________\n",
      "layer09 (Transformer)        multiple                  78676480  \n",
      "_________________________________________________________________\n",
      "layer10 (Transformer)        multiple                  78676480  \n",
      "_________________________________________________________________\n",
      "layer11 (Transformer)        multiple                  78676480  \n",
      "_________________________________________________________________\n",
      "layer12 (Transformer)        multiple                  78676480  \n",
      "_________________________________________________________________\n",
      "layer13 (Transformer)        multiple                  78676480  \n",
      "_________________________________________________________________\n",
      "layer14 (Transformer)        multiple                  78676480  \n",
      "_________________________________________________________________\n",
      "layer15 (Transformer)        multiple                  78676480  \n",
      "_________________________________________________________________\n",
      "layer16 (Transformer)        multiple                  78676480  \n",
      "_________________________________________________________________\n",
      "layer17 (Transformer)        multiple                  78676480  \n",
      "_________________________________________________________________\n",
      "layer18 (Transformer)        multiple                  78676480  \n",
      "_________________________________________________________________\n",
      "layer19 (Transformer)        multiple                  78676480  \n",
      "_________________________________________________________________\n",
      "layer20 (Transformer)        multiple                  78676480  \n",
      "_________________________________________________________________\n",
      "layer21 (Transformer)        multiple                  78676480  \n",
      "_________________________________________________________________\n",
      "layer22 (Transformer)        multiple                  78676480  \n",
      "_________________________________________________________________\n",
      "layer23 (Transformer)        multiple                  78676480  \n",
      "_________________________________________________________________\n",
      "layer24 (Transformer)        multiple                  78676480  \n",
      "_________________________________________________________________\n",
      "layer25 (Transformer)        multiple                  78676480  \n",
      "_________________________________________________________________\n",
      "layer26 (Transformer)        multiple                  78676480  \n",
      "_________________________________________________________________\n",
      "layer27 (Transformer)        multiple                  78676480  \n",
      "_________________________________________________________________\n",
      "layer28 (Transformer)        multiple                  78676480  \n",
      "_________________________________________________________________\n",
      "layer29 (Transformer)        multiple                  78676480  \n",
      "_________________________________________________________________\n",
      "layer30 (Transformer)        multiple                  78676480  \n",
      "_________________________________________________________________\n",
      "layer31 (Transformer)        multiple                  78676480  \n",
      "_________________________________________________________________\n",
      "LayerNorm_final_norm (LayerN multiple                  5120      \n",
      "=================================================================\n",
      "Total params: 2,597,073,920\n",
      "Trainable params: 2,597,073,920\n",
      "Non-trainable params: 0\n",
      "_________________________________________________________________\n"
     ]
    }
   ],
   "source": [
    "gpt.summary()"
   ]
  },
  {
   "cell_type": "code",
   "execution_count": null,
   "metadata": {},
   "outputs": [],
   "source": []
  }
 ],
 "metadata": {
  "kernelspec": {
   "display_name": "Python 3",
   "language": "python",
   "name": "python3"
  },
  "language_info": {
   "codemirror_mode": {
    "name": "ipython",
    "version": 3
   },
   "file_extension": ".py",
   "mimetype": "text/x-python",
   "name": "python",
   "nbconvert_exporter": "python",
   "pygments_lexer": "ipython3",
   "version": "3.8.6"
  }
 },
 "nbformat": 4,
 "nbformat_minor": 4
}
