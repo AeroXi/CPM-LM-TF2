{
 "cells": [
  {
   "cell_type": "markdown",
   "metadata": {},
   "source": [
    "pip install awscli sagemaker --user"
   ]
  },
  {
   "cell_type": "markdown",
   "metadata": {},
   "source": [
    "from sagemaker.tensorflow import TensorFlowModel\n",
    "\n",
    "model = TensorFlowModel(framework_version=\"2.2.2\", model_data='s3://model-deploy/cpm-lm-tf2-fp16.tar.gz', role='arn:aws-cn:iam::907067680148:role/service-role/AmazonSageMaker-ExecutionRole-20210422T153180')\n",
    "\n",
    "predictor = model.deploy(initial_instance_count=1, instance_type='ml.g4dn.xlarge')"
   ]
  },
  {
   "cell_type": "code",
   "execution_count": 1,
   "metadata": {},
   "outputs": [],
   "source": [
    "from sagemaker.predictor import Predictor\n",
    "\n",
    "endpoint = \"tensorflow-inference-2021-04-28-15-31-51-433\"\n",
    "\n",
    "predictor = Predictor(endpoint_name=endpoint)"
   ]
  },
  {
   "cell_type": "code",
   "execution_count": 2,
   "metadata": {},
   "outputs": [],
   "source": [
    "import tensorflow as tf\n",
    "import json\n",
    "from gpt2_tokenizer import GPT2Tokenizer\n",
    "\n",
    "tokenizer = GPT2Tokenizer(\n",
    "    'CPM-Generate/bpe_3w_new/vocab.json',\n",
    "    'CPM-Generate/bpe_3w_new/merges.txt',\n",
    "    model_file='CPM-Generate/bpe_3w_new/chinese_vocab.model')\n",
    "\n"
   ]
  },
  {
   "cell_type": "code",
   "execution_count": 3,
   "metadata": {},
   "outputs": [
    {
     "name": "stdin",
     "output_type": "stream",
     "text": [
      "请输入:  我是一个退休的杀手，有一天一个小混混进我的别墅抢劫还杀了我遗孀留给我的狗，我下定决心要报复他，于是我去地下室拿出了很多枪\n"
     ]
    },
    {
     "name": "stderr",
     "output_type": "stream",
     "text": [
      "Building prefix dict from the default dictionary ...\n",
      "Loading model from cache /var/folders/2x/36t_7q8s22v0d3hbwqv3b02r0000gn/T/jieba.cache\n",
      "Loading model cost 0.984 seconds.\n",
      "Prefix dict has been built successfully.\n"
     ]
    },
    {
     "name": "stdout",
     "output_type": "stream",
     "text": [
      "我是一个退休的杀手,有一天一个小混混进我的别墅抢劫还杀了我遗⁇留给我的狗,我下定决心要报复他,于是我去地下室拿出了很多枪来布置整个场面,要把所有可能的人都干掉,然后我的邻居出场了,我故作镇定要找他搭话,就说到杀小混混的事情,这时房东出来了并走进来称赞我一顿说“一看就是高手”,结果我显然被当成了高手,他给我一壶酒,这酒可以喝一小会儿,我赶紧喝掉,然后说“不了,干了这杯我就收手”,然后老板就开始莫名其妙的被几个门徒打伤了,那几个门徒不是怪物,不过我也解释不了那几个门徒是怎么长的,结果一个门徒的头就摔了,老板把他一脚踹倒后我们就离开了,我回到地下室,门已经关了,估计是那几个门徒开车跑了,我也把房东叫了过来,我开门见山,我说“原来他们都有内奸,你不是也知道吗?”,我把事情告诉了他,然后我换个问题问,“为什么你邻居知道车库有几个门徒,而你不知道?”,老板一脸茫然,心想你个傻子,还说为什么,我指了指地上那个酒杯,老板恍然大悟,然后我们就离开了,当然那几个家伙也没命了,我们晚上回到家还杀了个鸡,然后拎着那把椅子把地上的杯子磕了几颗,在地板上敲了敲,然后就把那杯子拎起来摔地上摔了个粉碎,门也砸了几扇,等垃圾清理完了,房东也洗完澡打算休息了,我已经把家里所有值钱的东西都搜了个遍,最后除了破沙发,包括沙发上的垫子,一切也都没了,然后我和房东坐在客厅,然后我们说“以后呢?\n"
     ]
    }
   ],
   "source": [
    "length = 500\n",
    "sentence = input(\"请输入: \")\n",
    "inputs = tf.constant([tokenizer.encode(sentence)], dtype=tf.int64)\n",
    "inputs = inputs.numpy().tolist()\n",
    "inputs = inputs[0]\n",
    "data = json.dumps({\"inp\":inputs, \"length\":length})\n",
    "ret = predictor.predict(data, initial_args={'ContentType': 'application/json'})\n",
    "ret = json.loads(ret)\n",
    "ret = ret['predictions']\n",
    "print(tokenizer.decode(ret[0]).replace(' ', ''))"
   ]
  },
  {
   "cell_type": "code",
   "execution_count": null,
   "metadata": {},
   "outputs": [],
   "source": []
  }
 ],
 "metadata": {
  "kernelspec": {
   "display_name": "Python 3",
   "language": "python",
   "name": "python3"
  },
  "language_info": {
   "codemirror_mode": {
    "name": "ipython",
    "version": 3
   },
   "file_extension": ".py",
   "mimetype": "text/x-python",
   "name": "python",
   "nbconvert_exporter": "python",
   "pygments_lexer": "ipython3",
   "version": "3.7.9"
  }
 },
 "nbformat": 4,
 "nbformat_minor": 4
}
