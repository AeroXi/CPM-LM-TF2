{
 "cells": [
  {
   "cell_type": "code",
   "execution_count": 1,
   "metadata": {},
   "outputs": [],
   "source": [
    "import tensorflow_hub as hub\n",
    "import tensorflow as tf\n",
    "\n",
    "from gpt2_tokenizer import GPT2Tokenizer"
   ]
  },
  {
   "cell_type": "code",
   "execution_count": 2,
   "metadata": {},
   "outputs": [],
   "source": [
    "physical_devices = tf.config.list_physical_devices('GPU')\n",
    "tf.config.experimental.set_memory_growth(physical_devices[0], True)"
   ]
  },
  {
   "cell_type": "code",
   "execution_count": 3,
   "metadata": {},
   "outputs": [],
   "source": [
    "tokenizer = GPT2Tokenizer(\n",
    "    'CPM-Generate/bpe_3w_new/vocab.json',\n",
    "    'CPM-Generate/bpe_3w_new/merges.txt',\n",
    "    model_file='CPM-Generate/bpe_3w_new/chinese_vocab.model')"
   ]
  },
  {
   "cell_type": "code",
   "execution_count": 4,
   "metadata": {},
   "outputs": [],
   "source": [
    "gpt = hub.load('./cpm-lm-tf2-fp16/')"
   ]
  },
  {
   "cell_type": "code",
   "execution_count": 5,
   "metadata": {},
   "outputs": [],
   "source": [
    "def sample(tokenizer, gpt, sentence, number=1, length=20):\n",
    "    inputs = tf.constant([tokenizer.encode(sentence)] * number, dtype=tf.int64)\n",
    "    length = tf.constant(length, dtype=tf.int64)\n",
    "    ret = gpt.signatures['serving_default'](inp=inputs, length=length)['output_0']\n",
    "    return [\n",
    "        tokenizer.decode(s).replace(' ', '')\n",
    "        for s in ret.numpy()\n",
    "    ]"
   ]
  },
  {
   "cell_type": "code",
   "execution_count": 9,
   "metadata": {},
   "outputs": [
    {
     "name": "stdin",
     "output_type": "stream",
     "text": [
      " 想想,小时候,我们何尝不是一群木偶,好好读书,拼命挣钱,为的,不过是有一天,能买一张自己喜\n"
     ]
    },
    {
     "name": "stdout",
     "output_type": "stream",
     "text": [
      "想想,小时候,我们何尝不是一群木偶,好好读书,拼命挣钱,为的,不过是有一天,能买一张自己喜欢的CD,听着里面那些熟悉的声音,唱着属于自己的歌。林夕、方文山这些人的歌词,可能写的都是关于记忆的故事,但是那故事里的点点滴滴,已经浸透着更多人的记忆。我相信很多人,无论是经历了怎样的沧桑,都依然会记得初中的时候,同桌用竹签扎着一条绳子,两人把它扎的很细很细,然后将竹签对折,看看有没有缝隙,当时以为玩闹的童趣,现在却越发的真切。我一直记得,很多句子,第一次看到的时候,会想起小时候爸爸跟我说的故事。那时,他还很年轻,还要在桥上扛货,那段时间,他还是一个青涩的少年,面对着光鲜的日子,他只想尽力地证明,自己曾是那个带着帅气的军装的翩翩少年。周杰伦的歌词里也有好多关于时光的记忆,那些关于某个时间段的容颜,还有微调我们曾经的故事。第一次在网上看到微调的时候,心里立刻有了感慨,因为我发现,原来我在很多年以后,在重温当时,还有现在,都会和当时一模一样。本来越走越孤单,原本越走越慌乱,没发现天边那根彩虹,是自己错估了心情,每个人都习惯掩饰自己的情绪,\n",
      "--------------------\n"
     ]
    }
   ],
   "source": [
    "text = input()\n",
    "ret = sample(tokenizer, gpt, text, 1, 400)\n",
    "for x in ret:\n",
    "    print(x)\n",
    "    print('-' * 20)"
   ]
  },
  {
   "cell_type": "code",
   "execution_count": null,
   "metadata": {},
   "outputs": [],
   "source": []
  }
 ],
 "metadata": {
  "kernelspec": {
   "display_name": "Python 3",
   "language": "python",
   "name": "python3"
  },
  "language_info": {
   "codemirror_mode": {
    "name": "ipython",
    "version": 3
   },
   "file_extension": ".py",
   "mimetype": "text/x-python",
   "name": "python",
   "nbconvert_exporter": "python",
   "pygments_lexer": "ipython3",
   "version": "3.6.9"
  }
 },
 "nbformat": 4,
 "nbformat_minor": 4
}
