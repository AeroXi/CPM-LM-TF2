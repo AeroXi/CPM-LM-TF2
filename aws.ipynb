{
 "cells": [
  {
   "cell_type": "markdown",
   "metadata": {},
   "source": [
    "pip install awscli sagemaker --user"
   ]
  },
  {
   "cell_type": "code",
   "execution_count": 2,
   "metadata": {},
   "outputs": [
    {
     "name": "stderr",
     "output_type": "stream",
     "text": [
      "update_endpoint is a no-op in sagemaker>=2.\n",
      "See: https://sagemaker.readthedocs.io/en/stable/v2.html for details.\n"
     ]
    },
    {
     "name": "stdout",
     "output_type": "stream",
     "text": [
      "-------------!"
     ]
    }
   ],
   "source": [
    "from sagemaker.tensorflow import TensorFlowModel\n",
    "\n",
    "model = TensorFlowModel(framework_version=\"2.2.2\", model_data='s3://model-deploy/cpm-lm-tf2-fp16.tar.gz', role='arn:aws-cn:iam::907067680148:role/service-role/AmazonSageMaker-ExecutionRole-20210422T153180')\n",
    "\n",
    "predictor = model.deploy(initial_instance_count=1, instance_type='ml.g4dn.xlarge')"
   ]
  },
  {
   "cell_type": "code",
   "execution_count": 3,
   "metadata": {},
   "outputs": [
    {
     "data": {
      "text/plain": [
       "{'predictions': [[1,\n",
       "   2,\n",
       "   3,\n",
       "   4,\n",
       "   48,\n",
       "   11014,\n",
       "   8,\n",
       "   3,\n",
       "   3227,\n",
       "   48,\n",
       "   8862,\n",
       "   8,\n",
       "   3,\n",
       "   9338,\n",
       "   48]]}"
      ]
     },
     "execution_count": 3,
     "metadata": {},
     "output_type": "execute_result"
    }
   ],
   "source": [
    "predictor.predict({\"inp\":[1,2,3,4], \"length\":10})"
   ]
  },
  {
   "cell_type": "code",
   "execution_count": 4,
   "metadata": {},
   "outputs": [
    {
     "ename": "ModuleNotFoundError",
     "evalue": "No module named 'gpt2_tokenizer'",
     "output_type": "error",
     "traceback": [
      "\u001b[0;31m---------------------------------------------------------------------------\u001b[0m",
      "\u001b[0;31mModuleNotFoundError\u001b[0m                       Traceback (most recent call last)",
      "\u001b[0;32m<ipython-input-4-26c8e6c6a84f>\u001b[0m in \u001b[0;36m<module>\u001b[0;34m\u001b[0m\n\u001b[1;32m      1\u001b[0m \u001b[0;32mimport\u001b[0m \u001b[0mtensorflow\u001b[0m \u001b[0;32mas\u001b[0m \u001b[0mtf\u001b[0m\u001b[0;34m\u001b[0m\u001b[0;34m\u001b[0m\u001b[0m\n\u001b[1;32m      2\u001b[0m \u001b[0;32mimport\u001b[0m \u001b[0mjson\u001b[0m\u001b[0;34m\u001b[0m\u001b[0;34m\u001b[0m\u001b[0m\n\u001b[0;32m----> 3\u001b[0;31m \u001b[0;32mfrom\u001b[0m \u001b[0mgpt2_tokenizer\u001b[0m \u001b[0;32mimport\u001b[0m \u001b[0mGPT2Tokenizer\u001b[0m\u001b[0;34m\u001b[0m\u001b[0;34m\u001b[0m\u001b[0m\n\u001b[0m\u001b[1;32m      4\u001b[0m \u001b[0;34m\u001b[0m\u001b[0m\n\u001b[1;32m      5\u001b[0m tokenizer = GPT2Tokenizer(\n",
      "\u001b[0;31mModuleNotFoundError\u001b[0m: No module named 'gpt2_tokenizer'"
     ]
    }
   ],
   "source": [
    "import tensorflow as tf\n",
    "import json\n",
    "from gpt2_tokenizer import GPT2Tokenizer\n",
    "\n",
    "tokenizer = GPT2Tokenizer(\n",
    "    'CPM-Generate/bpe_3w_new/vocab.json',\n",
    "    'CPM-Generate/bpe_3w_new/merges.txt',\n",
    "    model_file='CPM-Generate/bpe_3w_new/chinese_vocab.model')\n",
    "\n",
    "\n",
    "length = 400\n",
    "sentence = \"罗俊是中山大学的校长\"\n",
    "inputs = tf.constant([tokenizer.encode(sentence)], dtype=tf.int64)\n",
    "length = tf.constant(length, dtype=tf.int64)\n",
    "inputs = inputs.numpy().tolist()\n",
    "inputs = inputs[0]\n",
    "print(inputs)\n",
    "data = json.dumps({\"inp\":[837, 259, 497, 46, 63, 8, 9, 18892, 328, 169, 1252], \"length\":50})\n",
    "ret = predictor.predict({\"inp\":[1659, 4135, 35, 15027, 11, 4379], \"length\":400})\n",
    "\n",
    "ret = ret['predictions']\n",
    "\n",
    "print([tokenizer.decode(s).replace(' ', '') for s in ret])"
   ]
  },
  {
   "cell_type": "code",
   "execution_count": 8,
   "metadata": {},
   "outputs": [],
   "source": [
    "from sagemaker.predictor import Predictor\n",
    "predictor = Predictor(endpoint_name=\"tensorflow-inference-2021-04-29-16-42-15-011\")"
   ]
  },
  {
   "cell_type": "code",
   "execution_count": 13,
   "metadata": {},
   "outputs": [
    {
     "data": {
      "text/plain": [
       "b'{\\n    \"predictions\": [[1659, 4135, 35, 15027, 11, 4379, 8, 9, 28, 79, 1000, 11, 13251, 26, 677, 35, 1330, 5671, 37, 19884, 11, 729, 18894, 5001, 8, 12, 8, 10, 19, 78, 8, 418, 61, 107, 16, 951, 68, 39, 249, 11, 119, 928, 8, 2842, 39, 249, 20, 8, 10, 331, 62, 8, 12, 8, 10, 331, 8, 14173, 5755, 5044, 8, 12, 8, 10, 6746, 1012, 3078, 8, 9, 129, 269, 780, 194, 4025, 372, 49, 716, 8, 375, 11, 1508, 11, 82, 358, 2207, 89, 8, 12, 8, 10, 630, 507, 928, 393, 16, 8, 9, 1012, 145, 19, 737, 31, 5601, 27, 1892, 321, 20, 8, 10, 834, 1134, 8, 9, 27, 5601, 16, 5601, 16, 45, 8, 10, 16, 8, 9, 16, 77, 5601, 149, 45, 8, 10, 28, 8, 9, 16, 43, 11, 82, 13116, 81, 345, 15, 78, 8, 12, 8, 10, 16, 8, 9, 16, 223, 106, 5601, 27, 8, 12, 8, 10, 28, 8, 9, 27, 80, 226, 43, 45, 8, 10, 16, 8, 9, 58, 8, 10, 16, 8, 9, 226, 43, 45, 8, 10, 28, 8, 9, 16, 540, 226, 8, 9, 57, 20, 8, 10, 16, 8, 9, 58, 8, 10, 28, 8, 9, 82, 237, 133, 8, 9, 82, 81, 563, 3846, 8, 12, 8, 10, 25, 594, 321, 16, 223, 80, 1382, 3471, 8, 12, 8, 10, 19, 44, 70, 951, 68, 27, 11, 1461, 388, 8, 9, 16, 11685, 27, 8, 12, 8, 10, 86, 19, 78, 321, 275, 2933, 157, 24, 43, 8, 9, 16, 861, 86, 956, 11, 8, 418, 956, 4680, 14, 8, 9, 86, 78, 321, 30, 77, 8, 9, 51, 35, 86, 26, 1187, 861, 16, 956, 8, 9, 59, 160, 16, 861, 86, 956, 14, 490, 8, 9, 86, 29, 18, 42, 177, 43, 8, 9, 27, 30, 15, 16, 11, 359, 8, 9, 27, 108, 11, 231, 18644, 11, 1172, 8, 9, 16, 137, 108, 11, 119, 27, 226, 108, 8, 9, 16, 1396, 690, 1255, 8, 12, 16, 239, 359, 1559, 57, 690, 558, 8, 12, 8, 10, 2492, 8, 9, 1474, 30, 15, 2680, 11, 8, 12, 8, 10, 1658, 331, 695, 11, 119, 16, 84, 323, 401, 8, 9, 16, 54, 1143, 1599, 138, 29, 928, 835, 211, 14, 5092, 8, 9, 8, 110, 103, 178, 16, 2791, 699, 576, 6785, 11, 31, 30, 389, 389, 2802, 1277, 8, 9, 16, 46, 84, 628]\\n    ]\\n}'"
      ]
     },
     "execution_count": 13,
     "metadata": {},
     "output_type": "execute_result"
    }
   ],
   "source": [
    "import json\n",
    "data = {\"inp\":[1659, 4135, 35, 15027, 11, 4379], \"length\":400}\n",
    "data = json.dumps(data)\n",
    "\n",
    "predictor.predict(data, initial_args={'ContentType': 'application/json'})"
   ]
  },
  {
   "cell_type": "code",
   "execution_count": 11,
   "metadata": {},
   "outputs": [
    {
     "data": {
      "text/plain": [
       "('*/*',)"
      ]
     },
     "execution_count": 11,
     "metadata": {},
     "output_type": "execute_result"
    }
   ],
   "source": [
    "predictor.accept"
   ]
  },
  {
   "cell_type": "code",
   "execution_count": null,
   "metadata": {},
   "outputs": [],
   "source": []
  }
 ],
 "metadata": {
  "kernelspec": {
   "display_name": "Python 3",
   "language": "python",
   "name": "python3"
  },
  "language_info": {
   "codemirror_mode": {
    "name": "ipython",
    "version": 3
   },
   "file_extension": ".py",
   "mimetype": "text/x-python",
   "name": "python",
   "nbconvert_exporter": "python",
   "pygments_lexer": "ipython3",
   "version": "3.7.9"
  }
 },
 "nbformat": 4,
 "nbformat_minor": 5
}
